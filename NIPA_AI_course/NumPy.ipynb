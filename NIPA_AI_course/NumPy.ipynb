{
 "cells": [
  {
   "cell_type": "markdown",
   "id": "65a6c578",
   "metadata": {},
   "source": [
    "# 데이터 핸들링을 위한 라이브러리 NumPy\n",
    "\n",
    "## 1. Numpy\n",
    "Numerical Python  \n",
    "Python에서 대규모 다차원 배열을 다룰 수 있게 도와주는 라이브러리  \n",
    "\n",
    "데이터의 대부분은 숫자 배열로 볼 수 있는데, numpy를 이용하면 반복문 없이 배열 처리를 할 수 있어 빠른 연산과 효율적인 메모리 사용이 가능하다."
   ]
  },
  {
   "cell_type": "code",
   "execution_count": 3,
   "id": "40167c94",
   "metadata": {},
   "outputs": [
    {
     "name": "stdout",
     "output_type": "stream",
     "text": [
      "[0, 1, 2, 3, 4]\n",
      "<class 'list'>\n"
     ]
    }
   ],
   "source": [
    "list_arr = list(range(5))\n",
    "print(list_arr)\n",
    "print(type(list_arr))"
   ]
  },
  {
   "cell_type": "code",
   "execution_count": 4,
   "id": "c28a77cd",
   "metadata": {},
   "outputs": [],
   "source": [
    "import numpy as np"
   ]
  },
  {
   "cell_type": "code",
   "execution_count": 5,
   "id": "1dc41d40",
   "metadata": {},
   "outputs": [
    {
     "name": "stdout",
     "output_type": "stream",
     "text": [
      "[0 1 2 3 4]\n",
      "<class 'numpy.ndarray'>\n"
     ]
    }
   ],
   "source": [
    "import numpy as np\n",
    "np_arr = np.array(range(5))\n",
    "print(np_arr)\n",
    "print(type(np_arr))"
   ]
  },
  {
   "cell_type": "markdown",
   "id": "5520889a",
   "metadata": {},
   "source": [
    "- ndarray : n차원의 배열 (n-dimensional array)\n",
    "\n",
    "### 1.1 실습 - 배열 만들기\n",
    "0부터 4까지 연속적인 숫자가 들어있는 배열을 만들어 array라는 배열에 저장해봅시다!"
   ]
  },
  {
   "cell_type": "code",
   "execution_count": 23,
   "id": "14ce2e69",
   "metadata": {},
   "outputs": [
    {
     "name": "stdout",
     "output_type": "stream",
     "text": [
      "[0 1 2 3 4]\n"
     ]
    }
   ],
   "source": [
    "import numpy as np\n",
    "\n",
    "# 0부터 4까지 연속적인 숫자가 들어있는 배열을 만들어 봅시다!\n",
    "array = np.array(range(5))\n",
    "print(array)"
   ]
  },
  {
   "cell_type": "markdown",
   "id": "b28526db",
   "metadata": {},
   "source": [
    "## 2. 배열의 기초\n",
    "리스트와 달리 같은 데이터 타입만 저장 가능  \n",
    "(리스트와 다른 것!!!)  "
   ]
  },
  {
   "cell_type": "code",
   "execution_count": 6,
   "id": "97f0aaa3",
   "metadata": {},
   "outputs": [
    {
     "name": "stdout",
     "output_type": "stream",
     "text": [
      "[0. 1. 2. 3. 4.]\n",
      "float64\n",
      "[0 1 2 3 4]\n"
     ]
    }
   ],
   "source": [
    "arr = np.array([0,1,2,3,4],dtype = float)\n",
    "print(arr)\n",
    "print(arr.dtype)\n",
    "print(arr.astype(int))"
   ]
  },
  {
   "cell_type": "code",
   "execution_count": 7,
   "id": "50491df6",
   "metadata": {},
   "outputs": [
    {
     "name": "stdout",
     "output_type": "stream",
     "text": [
      "1\n",
      "(4,)\n"
     ]
    }
   ],
   "source": [
    "list = [0,1,2,3]\n",
    "arr = np.array(list)\n",
    "print(arr.ndim)\n",
    "print(arr.shape)"
   ]
  },
  {
   "cell_type": "code",
   "execution_count": 8,
   "id": "e87af155",
   "metadata": {},
   "outputs": [
    {
     "name": "stdout",
     "output_type": "stream",
     "text": [
      "2\n",
      "(2, 3)\n"
     ]
    }
   ],
   "source": [
    "list = [[0,1,2],[3,4,5]]\n",
    "arr = np.array(list)\n",
    "print(arr.ndim)\n",
    "print(arr.shape)"
   ]
  },
  {
   "cell_type": "markdown",
   "id": "fd3e9cb7",
   "metadata": {},
   "source": [
    "- ndim : \n",
    "- shape : "
   ]
  },
  {
   "cell_type": "code",
   "execution_count": 9,
   "id": "1ad783c8",
   "metadata": {},
   "outputs": [
    {
     "name": "stdout",
     "output_type": "stream",
     "text": [
      "arr.shape : (6,)\n",
      "배열 요소의 수 : 6\n",
      "배열의 길이 : 6\n"
     ]
    }
   ],
   "source": [
    "arr = np.array([0, 1, 2, 3, 4, 5])\n",
    "print(\"arr.shape : {}\".format(arr.shape)) \n",
    "print(\"배열 요소의 수 : {}\".format(arr.size)) \n",
    "print(\"배열의 길이 : {}\".format(len(arr)))"
   ]
  },
  {
   "cell_type": "code",
   "execution_count": 10,
   "id": "53cd7fed",
   "metadata": {},
   "outputs": [
    {
     "name": "stdout",
     "output_type": "stream",
     "text": [
      "arr.shape : (3, 2)\n",
      "배열 요소의 수 : 6\n",
      "배열의 길이 : 3\n"
     ]
    }
   ],
   "source": [
    "arr.shape = 3, 2\n",
    "print(\"arr.shape : {}\".format(arr.shape)) \n",
    "print(\"배열 요소의 수 : {}\".format(arr.size)) \n",
    "print(\"배열의 길이 : {}\".format(len(arr)))"
   ]
  },
  {
   "cell_type": "markdown",
   "id": "d7f326b3",
   "metadata": {},
   "source": [
    "### 2.1 실습 - 배열의 기초\n",
    "1. array의 자료형을 출력해보세요. type() 함수로 변수의 자료형을 구할 수 있습니다.  \n",
    "이 type(array)의 의미는 array라는 변수가 파이썬에서 어떤 자료형으로 저장되고 있는지 알 수 있는 것입니다.\n",
    "2. array의 차원을 출력해보세요.\n",
    "3. array의 모양을 출력해보세요.\n",
    "4. array의 크기를 출력해보세요.\n",
    "5. array의 dtype을 출력해보세요. dtype이란, numpy 배열이 갖고 있는 요소의 자료형을 의미합니다.\n",
    "6. array의 인덱스 5의 요소를 출력해보세요.\n",
    "7. array의 인덱스 3의 요소부터 인덱스 5의 요소까지 출력해보세요."
   ]
  },
  {
   "cell_type": "code",
   "execution_count": 25,
   "id": "b3fe81d8",
   "metadata": {},
   "outputs": [
    {
     "name": "stdout",
     "output_type": "stream",
     "text": [
      "1차원 array\n",
      "[0 1 2 3 4 5 6 7 8 9]\n",
      "<class 'numpy.ndarray'>\n",
      "1\n",
      "(10,)\n",
      "10\n",
      "int32\n",
      "5\n",
      "[3 4 5]\n"
     ]
    }
   ],
   "source": [
    "import numpy as np\n",
    "\n",
    "print(\"1차원 array\")\n",
    "array = np.array(range(10))\n",
    "print(array)\n",
    "\n",
    "# 1. array의 자료형을 출력해보세요.\n",
    "print(type(array))\n",
    "\n",
    "# 2. array의 차원을 출력해보세요.\n",
    "print(array.ndim)\n",
    "\n",
    "# 3. array의 모양을 출력해보세요.\n",
    "print(array.shape)\n",
    "\n",
    "# 4. array의 크기를 출력해보세요.\n",
    "print(array.size)\n",
    "\n",
    "# 5. array의 dtype(data type)을 출력해보세요.\n",
    "print(array.dtype)\n",
    "\n",
    "# 6. array의 인덱스 5의 요소를 출력해보세요.\n",
    "print(array[5])\n",
    "\n",
    "# 7. array의 인덱스 3의 요소부터 인덱스 5 요소까지 출력해보세요.\n",
    "print(array[3:6])\n"
   ]
  },
  {
   "cell_type": "markdown",
   "id": "468b81d8",
   "metadata": {},
   "source": [
    "### 2.2 실습 - 배열의 기초\n",
    "1. matrix의 자료형을 출력해보세요. type(matrix)로 자료형을 구할 수 있습니다.\n",
    "2. matrix의 차원을 출력해보세요.\n",
    "3. matrix의 모양을 출력해보세요.\n",
    "4. matrix의 크기를 출력해보세요.\n",
    "5. matrix의 dtype을 출력해보세요.\n",
    "6. matrix의 dtype을 str로 변경하여 출력해보세요.\n",
    "7. matrix의 인덱스 (2,3)번째 요소를 출력해보세요.\n",
    "8. matrix의 인덱스 (0,1)번째 요소부터 (1,3)번째 요소까지 출력해보세요."
   ]
  },
  {
   "cell_type": "code",
   "execution_count": 26,
   "id": "7e540f27",
   "metadata": {},
   "outputs": [
    {
     "name": "stdout",
     "output_type": "stream",
     "text": [
      "2차원 array\n",
      "[[ 1  2  3  4  5]\n",
      " [ 6  7  8  9 10]\n",
      " [11 12 13 14 15]]\n",
      "<class 'numpy.ndarray'>\n",
      "2\n",
      "(3, 5)\n",
      "15\n",
      "int32\n",
      "[['1' '2' '3' '4' '5']\n",
      " ['6' '7' '8' '9' '10']\n",
      " ['11' '12' '13' '14' '15']]\n",
      "14\n",
      "[[2 3 4]\n",
      " [7 8 9]]\n"
     ]
    }
   ],
   "source": [
    "import numpy as np\n",
    "\n",
    "print(\"2차원 array\")\n",
    "#1부터 15까지 들어있는 (3,5)짜리 배열을 만듭니다.\n",
    "matrix = np.array(range(1,16))\n",
    "matrix.shape = 3,5\n",
    "print(matrix)\n",
    "\n",
    "\n",
    "# 1. matrix의 자료형을 출력해보세요.\n",
    "print(type(matrix))\n",
    "\n",
    "# 2. matrix의 차원을 출력해보세요.\n",
    "print(matrix.ndim)\n",
    "\n",
    "# 3. matrix의 모양을 출력해보세요.\n",
    "print(matrix.shape)\n",
    "\n",
    "# 4. matrix의 크기를 출력해보세요.\n",
    "print(matrix.size)\n",
    "\n",
    "# 5. matrix의 dtype(data type)을 출력해보세요.\n",
    "print(matrix.dtype)\n",
    "\n",
    "# 6. matrix의 dtype을 str로 변경하여 출력해보세요.\n",
    "print(matrix.astype(str))\n",
    "\n",
    "# 7. matrix의 (2,3) 인덱스의 요소를 출력해보세요.\n",
    "print(matrix[2,3])\n",
    "#print(matrix[2][3])\n",
    "\n",
    "# 8. matrix의 행은 인덱스 0부터 인덱스 1까지, 열은 인덱스 1부터 인덱스 3까지 출력해보세요.\n",
    "print(matrix[0:2,1:4])\n",
    "#print(matrix[0:2][1:4])"
   ]
  },
  {
   "cell_type": "markdown",
   "id": "a17e5efb",
   "metadata": {},
   "source": [
    "## 3. Indexing & Slicing\n",
    "Indexing : 인덱스로 값을 찾아냄  \n",
    "Slicing : 인덱스의 값으로 배열의 일부분을 가져옴  "
   ]
  },
  {
   "cell_type": "code",
   "execution_count": 12,
   "id": "52326733",
   "metadata": {},
   "outputs": [
    {
     "name": "stdout",
     "output_type": "stream",
     "text": [
      "[0 1 2 3 4 5 6]\n",
      "3\n",
      "[10  1  2  3  4  5  6]\n"
     ]
    }
   ],
   "source": [
    "x = np.arange(7)\n",
    "print(x) \n",
    "print(x[3]) \n",
    "#  print(x[7]) -> IndexError: index 7 is out of bound\n",
    "x[0] = 10\n",
    "print(x)"
   ]
  },
  {
   "cell_type": "code",
   "execution_count": 13,
   "id": "c9886e20",
   "metadata": {},
   "outputs": [
    {
     "name": "stdout",
     "output_type": "stream",
     "text": [
      "[[ 1  2  3  4]\n",
      " [ 5  6  7  8]\n",
      " [ 9 10 11 12]]\n",
      "12\n"
     ]
    }
   ],
   "source": [
    "x = np.arange(1, 13 ,1)\n",
    "x.shape = 3, 4\n",
    "print(x) \n",
    "print(x[2, 3]) "
   ]
  },
  {
   "cell_type": "code",
   "execution_count": 14,
   "id": "9c075343",
   "metadata": {},
   "outputs": [
    {
     "name": "stdout",
     "output_type": "stream",
     "text": [
      "[0 1 2 3 4 5 6]\n",
      "[1 2 3]\n",
      "[1 2 3 4 5 6]\n",
      "[0 1 2 3]\n",
      "[0 2 4 6]\n"
     ]
    }
   ],
   "source": [
    "x = np.arange(7)\n",
    "print(x) \n",
    "print(x[1:4]) \n",
    "print(x[1:]) \n",
    "print(x[:4]) \n",
    "print(x[::2])"
   ]
  },
  {
   "cell_type": "code",
   "execution_count": 15,
   "id": "b9e7ef09",
   "metadata": {},
   "outputs": [
    {
     "name": "stdout",
     "output_type": "stream",
     "text": [
      "[[ 1  2  3  4]\n",
      " [ 5  6  7  8]\n",
      " [ 9 10 11 12]]\n",
      "[[5]]\n",
      "[[ 5  6]\n",
      " [ 9 10]]\n"
     ]
    }
   ],
   "source": [
    "x = np.arange(1, 13 ,1)\n",
    "x.shape = 3, 4\n",
    "print(x) \n",
    "print(x[1:2,:2:3]) \n",
    "print(x[1:,:2]) "
   ]
  },
  {
   "cell_type": "markdown",
   "id": "bd210cf4",
   "metadata": {},
   "source": [
    "### Boolean indexing\n",
    "Boolean indexing : 배열의 각 요소의 선택 여부를 Boolean mask를 이용하여 지정하는 방식  \n",
    "Boolean mask : True, False로 구성된 mask array  \n",
    "\n",
    "Boolean mask의 True 요소에 해당하는 index만을 조회하는 방식으로 응용이 가능하다."
   ]
  },
  {
   "cell_type": "code",
   "execution_count": 16,
   "id": "35d76a98",
   "metadata": {},
   "outputs": [
    {
     "name": "stdout",
     "output_type": "stream",
     "text": [
      "[0 1 2 3 4 5 6]\n",
      "[ True  True  True False False False False]\n",
      "[False False False False False False False]\n"
     ]
    }
   ],
   "source": [
    "x = np.arange(7)\n",
    "print(x)\n",
    "print(x < 3) \n",
    "print(x > 7) "
   ]
  },
  {
   "cell_type": "code",
   "execution_count": 17,
   "id": "cb284842",
   "metadata": {},
   "outputs": [
    {
     "name": "stdout",
     "output_type": "stream",
     "text": [
      "[0 1 2]\n",
      "[0 2 4 6]\n"
     ]
    }
   ],
   "source": [
    "x = np.arange(7)\n",
    "print(x[x < 3]) \n",
    "print(x[x % 2 == 0]) "
   ]
  },
  {
   "cell_type": "markdown",
   "id": "1d758398",
   "metadata": {},
   "source": [
    "### Fancy indexing\n",
    "Fancy indexing : 배열의 각 요소 선택을 index 배열을 전달하여 지정하는 방식"
   ]
  },
  {
   "cell_type": "code",
   "execution_count": 18,
   "id": "9759f233",
   "metadata": {},
   "outputs": [
    {
     "name": "stdout",
     "output_type": "stream",
     "text": [
      "[0 1 2 3 4 5 6]\n",
      "[1 3 5]\n"
     ]
    }
   ],
   "source": [
    "x = np.arange(7)\n",
    "print(x) \n",
    "print(x[[1, 3, 5]]) "
   ]
  },
  {
   "cell_type": "code",
   "execution_count": 19,
   "id": "900e99e0",
   "metadata": {},
   "outputs": [
    {
     "name": "stdout",
     "output_type": "stream",
     "text": [
      "[[ 1  2  3  4]\n",
      " [ 5  6  7  8]\n",
      " [ 9 10 11 12]]\n",
      "[[ 1  2  3  4]\n",
      " [ 9 10 11 12]]\n"
     ]
    }
   ],
   "source": [
    "x = np.arange(1, 13 ,1).reshape(3, 4)\n",
    "print(x) \n",
    "print(x[[0, 2]])"
   ]
  },
  {
   "cell_type": "markdown",
   "id": "a5f17523",
   "metadata": {},
   "source": [
    "원하는 결과를 내기 위해 indexing과 slicing을 적절히 조합하여 사용하면 된다."
   ]
  },
  {
   "cell_type": "code",
   "execution_count": 20,
   "id": "98b5c4c2",
   "metadata": {},
   "outputs": [
    {
     "name": "stdout",
     "output_type": "stream",
     "text": [
      "[[ 1  2  3  4]\n",
      " [ 5  6  7  8]\n",
      " [ 9 10 11 12]]\n"
     ]
    }
   ],
   "source": [
    "x = np.arange(1, 13 ,1).reshape(3, 4)\n",
    "print(x)"
   ]
  },
  {
   "cell_type": "code",
   "execution_count": 21,
   "id": "5cf24477",
   "metadata": {},
   "outputs": [
    {
     "name": "stdout",
     "output_type": "stream",
     "text": [
      "[7]\n",
      "[ 3 11]\n",
      "[[ 1  2]\n",
      " [ 9 10]]\n"
     ]
    }
   ],
   "source": [
    "print(x[1:2, 2]) \n",
    "print(x[[0,2], 2])\n",
    "print(x[[0,2], :2])"
   ]
  },
  {
   "cell_type": "markdown",
   "id": "e8ea2aea",
   "metadata": {},
   "source": [
    "### 실습 - Indexing & Slicing\n",
    "\n",
    "1. Indexing을 통해 값 2를 answer1에 저장해보세요.\n",
    "2. Slicing을 통해 매트릭스 일부인 9, 10을 가져와 answer2에 저장해보세요.\n",
    "3. Boolean indexing을 통해 5보다 작은 수를 찾아 answer3에 저장해보세요.\n",
    "4. Fancy indexing을 통해 두 번째 행만 추출하여 answer4에 저장해보세요."
   ]
  },
  {
   "cell_type": "code",
   "execution_count": 27,
   "id": "beeb234f",
   "metadata": {},
   "outputs": [
    {
     "name": "stdout",
     "output_type": "stream",
     "text": [
      "[[ 1  2  3  4]\n",
      " [ 5  6  7  8]\n",
      " [ 9 10 11 12]]\n",
      "2\n",
      "[[ 9 10]]\n",
      "[1 2 3 4]\n",
      "[[5 6 7 8]]\n"
     ]
    }
   ],
   "source": [
    "import numpy as np\n",
    "\n",
    "matrix = np.arange(1, 13, 1).reshape(3, 4)\n",
    "print(matrix)\n",
    "\n",
    "# 1. Indexing을 통해 값 2를 출력해보세요.\n",
    "answer1 = matrix[0,1]\n",
    "\n",
    "# 2. Slicing을 통해 매트릭스 일부인 9, 10을 가져와 출력해보세요.\n",
    "answer2 = matrix[2:,:2]\n",
    "\n",
    "# 3. Boolean indexing을 통해 5보다 작은 수를 찾아 출력해보세요.\n",
    "answer3 = matrix[matrix < 5]\n",
    "\n",
    "# 4. Fancy indexing을 통해 두 번째 행만 추출하여 출력해보세요.\n",
    "answer4 = matrix[[1]]\n",
    "\n",
    "# 위에서 구한 정답을 출력해봅시다.\n",
    "print(answer1)\n",
    "print(answer2)\n",
    "print(answer3)\n",
    "print(answer4)"
   ]
  },
  {
   "cell_type": "code",
   "execution_count": null,
   "id": "2ea52c12",
   "metadata": {},
   "outputs": [],
   "source": []
  }
 ],
 "metadata": {
  "kernelspec": {
   "display_name": "Python 3",
   "language": "python",
   "name": "python3"
  },
  "language_info": {
   "codemirror_mode": {
    "name": "ipython",
    "version": 3
   },
   "file_extension": ".py",
   "mimetype": "text/x-python",
   "name": "python",
   "nbconvert_exporter": "python",
   "pygments_lexer": "ipython3",
   "version": "3.8.8"
  }
 },
 "nbformat": 4,
 "nbformat_minor": 5
}
