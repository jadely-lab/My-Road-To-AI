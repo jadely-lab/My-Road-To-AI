{
 "cells": [
  {
   "cell_type": "markdown",
   "id": "26f34e97",
   "metadata": {},
   "source": [
    "# 2.1 Perceptron\n",
    "신경망의 기원이 되는 알고리즘\n",
    "\n",
    "다수의 신호를 입력 받아 하나의 신호를 출력  \n",
    "다만 이 신호는 흐름이 있는데, (ex. 전류)  \n",
    "흐른다/안 흐른다 (1/0) 2가지 값을 가진다.  \n",
    "- 1 : 신호가 흐른다.\n",
    "- 0 : 신호가 안 흐른다.\n",
    "\n",
    "#### 동작 원리"
   ]
  },
  {
   "attachments": {
    "image.png": {
     "image/png": "[encoded data removed]"
    }
   },
   "cell_type": "markdown",
   "id": "9e72b49c",
   "metadata": {},
   "source": [
    "<div>\n",
    "<img src=\"attachment:image.png\" width=\"300\"/>\n",
    "</div>"
   ]
  },
  {
   "cell_type": "markdown",
   "id": "b4ef45cd",
   "metadata": {},
   "source": [
    "여기서 w는 가중치, x는 입력 신호, theta는 임계값이다.  \n",
    "\n",
    "입력 신호가 뉴런에 보내질 때 각각 고유한 가중치가 곱해지는데,  \n",
    "이 가중치는 각 신호가 결과에 주는 영향력을 조정하는 요소로 작용한다. (클수록 해당 신호가 중요하다.)  \n",
    "뉴런에서 보내온 신호의 총합이 정해진 한계를 넘어설 때 1을 출력한다. (=뉴런이 활성화한다.)\n",
    "여기서 이 한계가 임계값이다."
   ]
  },
  {
   "cell_type": "markdown",
   "id": "2d00ab79",
   "metadata": {},
   "source": [
    "# 2.2 단순한 논리 회로 - AND, OR, NAND"
   ]
  },
  {
   "cell_type": "markdown",
   "id": "0156330d",
   "metadata": {},
   "source": [
    "퍼셉트론으로 AND, OR, NAND 등의 논리 회로를 표현할 수 있다.  \n",
    "중요한 점은, ***퍼셉트론의 구조는 AND, OR, NAND 게이트에서 모두 동일하다***는 점이다.  \n",
    "가중치와 임계값만 바꿔주면 된다.  "
   ]
  },
  {
   "cell_type": "markdown",
   "id": "8fa17319",
   "metadata": {},
   "source": [
    "# 2.3 퍼셉트론 구현하기"
   ]
  },
  {
   "cell_type": "markdown",
   "id": "6057f568",
   "metadata": {},
   "source": [
    "## 2.3.1 간단한 구현 - AND"
   ]
  },
  {
   "cell_type": "code",
   "execution_count": 3,
   "id": "2035a70c",
   "metadata": {},
   "outputs": [],
   "source": [
    "def AND(x1, x2):\n",
    "    w1, w2, theta = 0.5, 0.5, 0.7\n",
    "    tmp = w1*x1 + w2*x2\n",
    "    if tmp <= theta:\n",
    "        return 0\n",
    "    elif tmp > theta:\n",
    "        return 1"
   ]
  },
  {
   "cell_type": "code",
   "execution_count": 6,
   "id": "92c2d93b",
   "metadata": {},
   "outputs": [
    {
     "data": {
      "text/plain": [
       "(0, 0, 0, 1)"
      ]
     },
     "execution_count": 6,
     "metadata": {},
     "output_type": "execute_result"
    }
   ],
   "source": [
    "AND(0,0), AND(1,0), AND(0,1), AND(1,1)"
   ]
  },
  {
   "cell_type": "markdown",
   "id": "26ff30ce",
   "metadata": {},
   "source": [
    "## 2.3.2 가중치와 편향 도입\n",
    "이전의 theta를 -b로 치환한다.  \n",
    "여기서 b는 편향이다."
   ]
  },
  {
   "cell_type": "code",
   "execution_count": 7,
   "id": "f685c4cc",
   "metadata": {},
   "outputs": [
    {
     "data": {
      "text/plain": [
       "array([0. , 0.5])"
      ]
     },
     "execution_count": 7,
     "metadata": {},
     "output_type": "execute_result"
    }
   ],
   "source": [
    "import numpy as np\n",
    "x = np.array([0,1])  # 입력\n",
    "w = np.array([0.5,0.5])\n",
    "b = -0.7\n",
    "w*x"
   ]
  },
  {
   "cell_type": "code",
   "execution_count": 8,
   "id": "9408d750",
   "metadata": {},
   "outputs": [
    {
     "data": {
      "text/plain": [
       "0.5"
      ]
     },
     "execution_count": 8,
     "metadata": {},
     "output_type": "execute_result"
    }
   ],
   "source": [
    "np.sum(w*x)"
   ]
  },
  {
   "cell_type": "code",
   "execution_count": 9,
   "id": "a986a4d6",
   "metadata": {},
   "outputs": [
    {
     "data": {
      "text/plain": [
       "-0.19999999999999996"
      ]
     },
     "execution_count": 9,
     "metadata": {},
     "output_type": "execute_result"
    }
   ],
   "source": [
    "np.sum(w*x) + b"
   ]
  },
  {
   "cell_type": "markdown",
   "id": "e081b4cd",
   "metadata": {},
   "source": [
    "## 2.3.3 가중치와 편향 구현하기\n",
    "모두 같은 구조의 퍼셉트론  \n",
    "NAND와 OR은 AND와는 w와 b만 다르다.  \n",
    "\n",
    "### AND 구현"
   ]
  },
  {
   "cell_type": "code",
   "execution_count": 10,
   "id": "3724e36b",
   "metadata": {},
   "outputs": [],
   "source": [
    "def AND(x1, x2):\n",
    "    x = np.array([x1, x2])\n",
    "    w = np.array([0.5,0.5])\n",
    "    b = -0.7\n",
    "    tmp = np.sum(w*x) + b\n",
    "    \n",
    "    if tmp <= 0:\n",
    "        return 0\n",
    "    else:\n",
    "        return 1"
   ]
  },
  {
   "cell_type": "markdown",
   "id": "b34e8849",
   "metadata": {},
   "source": [
    "### NAND 구현"
   ]
  },
  {
   "cell_type": "code",
   "execution_count": 11,
   "id": "40373014",
   "metadata": {},
   "outputs": [],
   "source": [
    "def NAND(x1, x2):\n",
    "    x = np.array([x1, x2])\n",
    "    w = np.array([-0.5, -0.5])\n",
    "    b = 0.7\n",
    "    tmp = np.sum(w*x) + b\n",
    "    \n",
    "    if tmp <= 0:\n",
    "        return 0\n",
    "    else: \n",
    "        return 1"
   ]
  },
  {
   "cell_type": "markdown",
   "id": "7f0f4ee6",
   "metadata": {},
   "source": [
    "### OR 구현"
   ]
  },
  {
   "cell_type": "code",
   "execution_count": 12,
   "id": "44476924",
   "metadata": {},
   "outputs": [],
   "source": [
    "def OR(x1, x2):\n",
    "    x = np.array([x1,x2])\n",
    "    w = np.array([0.5, 0.5])\n",
    "    b = -0.2\n",
    "    tmp = np.sum(w*x) + b\n",
    "    \n",
    "    if tmp <= 0:\n",
    "        return 0\n",
    "    else: \n",
    "        return 1"
   ]
  },
  {
   "cell_type": "markdown",
   "id": "c6c17584",
   "metadata": {},
   "source": [
    "# 2.4 퍼셉트론의 한계\n",
    "XOR 게이트도 구현이 가능할까?"
   ]
  },
  {
   "cell_type": "markdown",
   "id": "2857105b",
   "metadata": {},
   "source": [
    "## 2.4.1 도전! XOR 게이트\n",
    "### XOR 게이트\n",
    "배타적 논리합 -> 값이 다를 때만 1  \n",
    "퍼셉트론으로는 XOR 게이트를 구현할 수 없다.  \n",
    "입력을((0,0),(1,0),(0,1),(1,1)) 그래프에 그렸을 때, 출력이 0이 나오는 경우와 1이 나오는 경우를 직선 1개로 나눠 구분할 수 없기 때문이다.  \n",
    "하지만 직선이 아닌 곡선으로는 나눌 수 있다. 그렇게 그려 만든 영역을 ***비선형 영역***이라 하고, 직선으로 나눠 만든 영역을 ***선형 영역***이라 한다."
   ]
  },
  {
   "cell_type": "markdown",
   "id": "67e35bab",
   "metadata": {},
   "source": [
    "# 2.5 다층 퍼셉트론이 출동한다면\n",
    "퍼셉트론의 장점 중 하나로, 여러 층을 쌓아 다층 퍼셉트론을 만들 수 있다.\n",
    "### XOR 게이트\n",
    "층을 하나 더 쌓으면 구현 가능하다.\n",
    "\n",
    "## 2.5.1 기본 게이트 조합하기\n",
    "AND, NAND, OR를 하나씩 대입하면, 이 세 가지를 연결하여 XOR을 만들 수 있다.\n",
    "\n",
    "## 2.5.2 XOR 게이트 구현하기"
   ]
  },
  {
   "cell_type": "code",
   "execution_count": 15,
   "id": "18554f75",
   "metadata": {},
   "outputs": [],
   "source": [
    "def XOR(x1, x2):\n",
    "    s1 = NAND(x1,x2)\n",
    "    s2 = OR(x1,x2)\n",
    "    y = AND(s1,s2)\n",
    "    return y"
   ]
  },
  {
   "cell_type": "code",
   "execution_count": 16,
   "id": "4ec779ca",
   "metadata": {},
   "outputs": [
    {
     "data": {
      "text/plain": [
       "(0, 1, 1, 0)"
      ]
     },
     "execution_count": 16,
     "metadata": {},
     "output_type": "execute_result"
    }
   ],
   "source": [
    "XOR(0,0), XOR(1,0), XOR(0,1), XOR(1,1)"
   ]
  },
  {
   "cell_type": "markdown",
   "id": "60fe4de2",
   "metadata": {},
   "source": [
    "### 다층 구조의 네트워크  \n",
    "- x1, x2 : 0층  \n",
    "- s1, s2 : 1층  \n",
    "- y : 2층  \n",
    "\n",
    "따라서,  \n",
    "- AND, OR, NAND : 단층 퍼셉트론\n",
    "- XOR : 2층 퍼셉트론  \n",
    "0층 -> 1층, 1층 -> 2층으로 신호가 전달된다. 그리고 2층에서 y를 출력한다.  \n",
    "\n",
    "다층 퍼셉트론으로 표현하지 못한 것들을 층을 늘려 구현할 수 있고, 복잡한 회로를 만들 수 있다.\n",
    "\n",
    "# 2.6 NAND에서 컴퓨터까지\n",
    "\n",
    "# 2.7 정리\n",
    "### 퍼셉트론\n",
    "- 입출력을 갖춘 알고리즘 -> 입력을 주면 정해진 규칙에 따른 값을 출력한다.\n",
    "- 가중치 w와 편향 b를 매개변수로 설정\n",
    "- AND, OR 게이트 등의 논리 회로 표현 가능\n",
    "- XOR은 단층이 아닌 2층 퍼셉트론으로 표현 가능\n",
    "- 단층 퍼셉트론은 직선형 영역만 표현할 수 있고, 다층 퍼셉트론은 비선형 영역도 표현할 ㅜㅅ 있다.\n",
    "- 다층 퍼셉트론은 (이론상) 컴퓨터를 표현할 수 있다."
   ]
  },
  {
   "cell_type": "code",
   "execution_count": null,
   "id": "55380c99",
   "metadata": {},
   "outputs": [],
   "source": []
  }
 ],
 "metadata": {
  "kernelspec": {
   "display_name": "Python 3",
   "language": "python",
   "name": "python3"
  },
  "language_info": {
   "codemirror_mode": {
    "name": "ipython",
    "version": 3
   },
   "file_extension": ".py",
   "mimetype": "text/x-python",
   "name": "python",
   "nbconvert_exporter": "python",
   "pygments_lexer": "ipython3",
   "version": "3.8.8"
  }
 },
 "nbformat": 4,
 "nbformat_minor": 5
}
